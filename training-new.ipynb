{
 "cells": [
  {
   "cell_type": "code",
   "execution_count": 2,
   "id": "edbe1bfe",
   "metadata": {},
   "outputs": [
    {
     "name": "stderr",
     "output_type": "stream",
     "text": [
      "c:\\Users\\Admin\\miniconda3\\Lib\\site-packages\\tqdm\\auto.py:21: TqdmWarning: IProgress not found. Please update jupyter and ipywidgets. See https://ipywidgets.readthedocs.io/en/stable/user_install.html\n",
      "  from .autonotebook import tqdm as notebook_tqdm\n",
      "[nltk_data] Error loading vader_lexicon: <urlopen error [Errno 11001]\n",
      "[nltk_data]     getaddrinfo failed>\n"
     ]
    },
    {
     "data": {
      "text/plain": [
       "False"
      ]
     },
     "execution_count": 2,
     "metadata": {},
     "output_type": "execute_result"
    }
   ],
   "source": [
    "import pandas as pd\n",
    "import numpy as np\n",
    "import os\n",
    "from transformers import BertTokenizer, BertForSequenceClassification, DistilBertTokenizer, DistilBertForSequenceClassification, RobertaTokenizer, RobertaForSequenceClassification\n",
    "from vaderSentiment.vaderSentiment import SentimentIntensityAnalyzer\n",
    "from sklearn.metrics import classification_report, accuracy_score\n",
    "import torch\n",
    "from transformers import BertTokenizer, BertForSequenceClassification\n",
    "from transformers import DistilBertTokenizer, DistilBertForSequenceClassification\n",
    "from transformers import RobertaTokenizer, RobertaForSequenceClassification\n",
    "from vaderSentiment.vaderSentiment import SentimentIntensityAnalyzer\n",
    "from sklearn.feature_extraction.text import TfidfVectorizer\n",
    "from sklearn.linear_model import LogisticRegression\n",
    "from sklearn.model_selection import train_test_split\n",
    "from sklearn.metrics import accuracy_score\n",
    "import pandas as pd\n",
    "from transformers import (BertTokenizerFast, BertForSequenceClassification,\n",
    "                          DistilBertTokenizerFast, DistilBertForSequenceClassification,\n",
    "                          RobertaTokenizerFast, RobertaForSequenceClassification,\n",
    "                          Trainer, TrainingArguments)\n",
    "from nltk.sentiment import SentimentIntensityAnalyzer\n",
    "import nltk\n",
    "\n",
    "# Tải từ điển cảm xúc của Vader (nếu chưa tải)\n",
    "nltk.download('vader_lexicon')\n"
   ]
  },
  {
   "cell_type": "markdown",
   "id": "f4920eac",
   "metadata": {},
   "source": [
    "### LOAD DATASET\n"
   ]
  },
  {
   "cell_type": "code",
   "execution_count": 3,
   "id": "aaed03ce",
   "metadata": {},
   "outputs": [
    {
     "data": {
      "application/vnd.microsoft.datawrangler.viewer.v0+json": {
       "columns": [
        {
         "name": "index",
         "rawType": "int64",
         "type": "integer"
        },
        {
         "name": "id",
         "rawType": "float64",
         "type": "float"
        },
        {
         "name": "date",
         "rawType": "object",
         "type": "string"
        },
        {
         "name": "user_id",
         "rawType": "float64",
         "type": "float"
        },
        {
         "name": "user_username",
         "rawType": "object",
         "type": "string"
        },
        {
         "name": "user_displayname",
         "rawType": "object",
         "type": "unknown"
        },
        {
         "name": "replyCount",
         "rawType": "int64",
         "type": "integer"
        },
        {
         "name": "retweetCount",
         "rawType": "int64",
         "type": "integer"
        },
        {
         "name": "likeCount",
         "rawType": "int64",
         "type": "integer"
        },
        {
         "name": "quoteCount",
         "rawType": "int64",
         "type": "integer"
        },
        {
         "name": "viewCount",
         "rawType": "int64",
         "type": "integer"
        },
        {
         "name": "searched_keyword",
         "rawType": "object",
         "type": "string"
        },
        {
         "name": "cleaned_text",
         "rawType": "object",
         "type": "string"
        },
        {
         "name": "Sentiment",
         "rawType": "object",
         "type": "string"
        },
        {
         "name": "hashtag_text",
         "rawType": "object",
         "type": "unknown"
        }
       ],
       "conversionMethod": "pd.DataFrame",
       "ref": "06656a0b-c18c-40f9-8d92-4d3c24336170",
       "rows": [
        [
         "0",
         "1.85e+18",
         "2024-11-05 14:23:43+00:00",
         "2237590525.0",
         "ImKnotTheOne",
         "Charli Huxley",
         "169",
         "326",
         "2788",
         "33",
         "158104",
         "VoteTrump VoteKamala ElectionDay Election2024 VotedforTrump until 2025-3-31 since 2024-07-01",
         "Because only garbage people would vote for this garbage human. Cant wait for these people to crawl back under their rocks. Make America Great Again",
         "Negative",
         "Trump2024, VotedforTrump, ElectionDay"
        ],
        [
         "1",
         "1.85e+18",
         "2024-10-23 15:22:44+00:00",
         "537709549.0",
         "LauraLoomer",
         "Laura Loomer",
         "2205",
         "8598",
         "47970",
         "176",
         "550747",
         "VoteTrump VoteKamala ElectionDay Election2024 VotedforTrump until 2025-3-31 since 2024-07-01",
         "JUST VOTED IN FLORIDA FOR THE GREATEST PRESIDENT EVER! DONALD J TRUMP!!!!! GET OUT AND VOTE FOR TRUMP TO SAVE AMERICA! THIS IS THE MOST IMPORTANT ELECTION OF OUR LIFETIME! MAGA!!!",
         "Positive",
         "Trump2024, AmericaFirst"
        ],
        [
         "2",
         "1.85e+18",
         "2024-11-05 11:34:56+00:00",
         "2237590525.0",
         "ImKnotTheOne",
         "Charli Huxley",
         "190",
         "735",
         "6803",
         "44",
         "346181",
         "VoteTrump VoteKamala ElectionDay Election2024 VotedforTrump until 2025-3-31 since 2024-07-01",
         "Vote as if your life depends on it. and FCK Donald Trump! TODAY IS THE DAY",
         "Negative",
         "ElectionDay, Election2024, VotedforTrump"
        ],
        [
         "3",
         "1.85e+18",
         "2024-11-05 15:39:26+00:00",
         "47293791.0",
         "w_terrence",
         "Terrence K Williams",
         "265",
         "1252",
         "6069",
         "31",
         "67609",
         "VoteTrump VoteKamala ElectionDay Election2024 VotedforTrump until 2025-3-31 since 2024-07-01",
         "TODAY IS THAT DAY Lets do this. Get up and go Vote! This is the most Important election. You cant sit this one out. Friendly Reminder Kamala had 4 years to do all the things shes promising to do! Vote for President Donald Trump!",
         "Negative",
         "ElectionDay, electionday2024"
        ],
        [
         "4",
         "1.84e+18",
         "2024-09-19 20:23:25+00:00",
         "1.36e+18",
         "kimmagagal2",
         "Kimmie",
         "31",
         "243",
         "600",
         "8",
         "19341",
         "VoteTrump VoteKamala ElectionDay Election2024 VotedforTrump until 2025-3-31 since 2024-07-01",
         "A message for Kamaaaala voters! Do you want peace? The choice is simple! Vote for Trump!",
         "Negative",
         null
        ],
        [
         "5",
         "1.85e+18",
         "2024-10-23 19:24:53+00:00",
         "304679484.0",
         "MarkHamill",
         "Mark Hamill",
         "5392",
         "9297",
         "54902",
         "518",
         "1295924",
         "VoteTrump VoteKamala ElectionDay Election2024 VotedforTrump until 2025-3-31 since 2024-07-01",
         "We vote because we love our country. It is our patriotic duty to ensure that the most dangerous man ever to be is defeated on November 5th. There is only ONE CHOICE",
         "Negative",
         "POTUS, KamalaHarris2024, No3rdParties"
        ],
        [
         "6",
         "1.82e+18",
         "2024-07-28 16:42:40+00:00",
         "1.43e+18",
         "Sassafrass_84",
         "Sassafrass84",
         "95",
         "863",
         "2059",
         "58",
         "69427",
         "VoteTrump VoteKamala ElectionDay Election2024 VotedforTrump until 2025-3-31 since 2024-07-01",
         "Just a reminder on what kamala represents. Do you want this for America? Hell no. Vote Trump. I'm on board with the man who is team usa and not illegal invasion.",
         "Negative",
         null
        ],
        [
         "7",
         "1.85e+18",
         "2024-10-16 18:33:33+00:00",
         "1.36e+18",
         "kimmagagal2",
         "Kimmie",
         "39",
         "176",
         "467",
         "7",
         "11299",
         "VoteTrump VoteKamala ElectionDay Election2024 VotedforTrump until 2025-3-31 since 2024-07-01",
         "A message for Kamaaaala voters! Suck it up buttercups!! TRUMP2024",
         "Negative",
         null
        ],
        [
         "8",
         "1.85e+18",
         "2024-10-24 12:06:09+00:00",
         "1.27e+18",
         "GabiNga1",
         "Gabi",
         "70",
         "290",
         "439",
         "9",
         "9859",
         "VoteTrump VoteKamala ElectionDay Election2024 VotedforTrump until 2025-3-31 since 2024-07-01",
         "Good Thursday Morning, Beautiful Friends GEORGIA IS TRUMP COUNTRY! I got teary looking at all those HAPPY people. They are having a blast! Y M C A Thirteen days, my friends. Im not sure about anyone else, but Ive been",
         "Positive",
         null
        ],
        [
         "9",
         "1.85e+18",
         "2024-11-05 19:52:41+00:00",
         "1.78e+18",
         "Anshika_in",
         "Anshika Singh Yadav",
         "81",
         "397",
         "1504",
         "8",
         "31067",
         "VoteTrump VoteKamala ElectionDay Election2024 VotedforTrump until 2025-3-31 since 2024-07-01",
         "Swing state's tilt is completely in favor of Donald Trump Therefore it is almost certain that the next President of America will be Donald Trump Elon Musk has a very big role to play if Trump becomes president",
         "Positive",
         "VoteTrump, VoteKamala, ElectionDay, Election2024, VotedforTrump"
        ],
        [
         "10",
         "1.85e+18",
         "2024-10-25 22:29:17+00:00",
         "1.57e+18",
         "TiffMoodNukes",
         "Its  Tiff",
         "2238",
         "5930",
         "35469",
         "255",
         "340611",
         "VoteTrump VoteKamala ElectionDay Election2024 VotedforTrump until 2025-3-31 since 2024-07-01",
         "Just VOTED EARLY AND IN PERSON FOR TRUMP for the third time with gratitude and pride. I prayed and got a little choked up over the sacrifices this great man has made and is making to save our country in peril. Im voting based on Trumps exemplary policies and past proven results",
         "Positive",
         null
        ],
        [
         "11",
         "1.84e+18",
         "2024-10-07 16:10:14+00:00",
         "1.35e+18",
         "5dme81",
         "5DME81",
         "36",
         "395",
         "806",
         "3",
         "15586",
         "VoteTrump VoteKamala ElectionDay Election2024 VotedforTrump until 2025-3-31 since 2024-07-01",
         "A VOTE FOR TRUMP IS A VOTE FOR SAVING OUR COUNTRY KAMALA IS A DISASTER",
         "Negative",
         null
        ],
        [
         "12",
         "1.85e+18",
         "2024-11-03 21:42:01+00:00",
         "1.23e+18",
         "kellytx2",
         "Kelly",
         "35",
         "292",
         "644",
         "5",
         "16546",
         "VoteTrump VoteKamala ElectionDay Election2024 VotedforTrump until 2025-3-31 since 2024-07-01",
         "If you havent voted, get out and VOTE! Vote for America and freedom! Vote for secure borders! Vote for your children and grandchildren, to safeguard their freedoms! Vote for law and order and the right to defend yourself! Vote for the candidate who will FIGHT for US!",
         "Positive",
         null
        ],
        [
         "13",
         "1.85e+18",
         "2024-10-30 05:13:50+00:00",
         "1.49e+18",
         "NowPammsy",
         "PammsyNow",
         "12",
         "168",
         "311",
         "4",
         "6725",
         "VoteTrump VoteKamala ElectionDay Election2024 VotedforTrump until 2025-3-31 since 2024-07-01",
         "Yesss! Lets go. Vote even more so its an overwhelming landslide victory! Dont stay home! Get out the vote for Trump! Vote Red down ballot!",
         "Positive",
         null
        ],
        [
         "14",
         "1.85e+18",
         "2024-10-23 12:30:22+00:00",
         "1.35e+18",
         "5dme81",
         "5DME81",
         "21",
         "384",
         "473",
         "7",
         "12541",
         "VoteTrump VoteKamala ElectionDay Election2024 VotedforTrump until 2025-3-31 since 2024-07-01",
         "VOTE ON THE RIGHT SIDE OF AMERICA WE ARE GOING TO SAVE AMERICA GET UP AND VOTE! IM NOT VOTING FOR KAMALA BULLSHT IM VOTING FOR DONALD TRUMP 2024 LETS GO. Go Vote",
         "Positive",
         "Trump2024NowMorethanEver, Vote"
        ],
        [
         "15",
         "1.83e+18",
         "2024-09-12 15:33:57+00:00",
         "1.35e+18",
         "5dme81",
         "5DME81",
         "16",
         "289",
         "322",
         "5",
         "10052",
         "VoteTrump VoteKamala ElectionDay Election2024 VotedforTrump until 2025-3-31 since 2024-07-01",
         "VOTE FOR WHO WILL MAKE AMERICA BETTERWE HAD BOTH TRUMP IN OFFICE AND WE HAD KAMALA IN OFFICEMY LIFE WAS BETTER WHEN TRUMP WAS IN OFFICE",
         "Negative",
         "KamalaHarrisIsAFailure, democratsTaxTaxTax, KamalaIsDangerousWithOpenBorders, KamalaBreadIsMoreExpensive, KamalaGasCostMore"
        ],
        [
         "16",
         "1.85e+18",
         "2024-10-27 18:12:50+00:00",
         "1.38e+18",
         "AmandaD2nd",
         "Amanda",
         "26",
         "41",
         "484",
         "2",
         "28298",
         "VoteTrump VoteKamala ElectionDay Election2024 VotedforTrump until 2025-3-31 since 2024-07-01",
         "Good afternoon everyone and happy Sunday I voted yesterday for real Donald Trump so I decided to celebrate our win today. Hope yall have voted and remember this is the most important election in the history of our country .",
         "Positive",
         "TRUMPISCOMINGBACK"
        ],
        [
         "17",
         "1.85e+18",
         "2024-10-25 02:42:51+00:00",
         "1.35e+18",
         "5dme81",
         "5DME81",
         "13",
         "409",
         "591",
         "6",
         "15409",
         "VoteTrump VoteKamala ElectionDay Election2024 VotedforTrump until 2025-3-31 since 2024-07-01",
         "Vivek Ramaswamy Seal The Border Vote TrumpRESTORE LAW AND ORDER VOTE TRUMPGROW THE ECONOMY VOTE TRUMOREVIVE NATIONAL PRIDE VOTE TRUMPREVIVE OUR IDENTITY VOTE TRUMPMAGA VOTE TRUMP",
         "Positive",
         null
        ],
        [
         "18",
         "1.85e+18",
         "2024-10-30 00:33:30+00:00",
         "1.35e+18",
         "5dme81",
         "5DME81",
         "18",
         "292",
         "472",
         "7",
         "10601",
         "VoteTrump VoteKamala ElectionDay Election2024 VotedforTrump until 2025-3-31 since 2024-07-01",
         "KABOOMLIBERAL AND 1ST TIME VOTER VOTING TRUMP. DEMOCRATS WORRIED MORE ABOUT FOREIGN POLICIES FOR OTHER COUNTRIES AND NOT DOING ENOUGH FOR THE PEOPLE HERE AT HOME. VOTE TRUMP NOW TRUMP FOR AMERICA",
         "Positive",
         null
        ],
        [
         "19",
         "1.85e+18",
         "2024-11-05 06:53:00+00:00",
         "7.3e+17",
         "TeamTrump",
         "Team Trump Text TRUMP to 88022",
         "24",
         "128",
         "782",
         "5",
         "86232",
         "VoteTrump VoteKamala ElectionDay Election2024 VotedforTrump until 2025-3-31 since 2024-07-01",
         "WE CANT AFFORD FOUR MORE YEARS OF KAMALA! This Election is in YOUR HANDS. Find your voting location, make a plan, and VOTE TRUMP!",
         "Negative",
         null
        ],
        [
         "20",
         "1.85e+18",
         "2024-11-06 07:25:50+00:00",
         "1.78e+18",
         "ivankatrumpo",
         "Ivanka Trump  Parody",
         "11260",
         "8037",
         "92273",
         "506",
         "2789562",
         "DonaldJTrump  President2024 BREAKING POTUS DonaldTrump DonaldTrump2024 winner Election2024 electionday2024 until 2025-3-31 since 2024-07-01",
         "BREAKING My Father Donald Trump has won the 2024 Election. If you are voted for this Great Father for making The Next 4 Years Great Again, GIVE ME A THUMBSUP!! Show Your loyalty for US !!",
         "Positive",
         null
        ],
        [
         "21",
         "1.85e+18",
         "2024-11-06 07:39:05+00:00",
         "1.79e+18",
         "BarronTrumpoo",
         "Barron Trump  Parody",
         "12448",
         "5862",
         "64492",
         "434",
         "1284540",
         "DonaldJTrump  President2024 BREAKING POTUS DonaldTrump DonaldTrump2024 winner Election2024 electionday2024 until 2025-3-31 since 2024-07-01",
         "BREAKING My DAD Donald J. Trump has won the 2024 Election. Thank you every Voter for making us come back again in THE WHITE HOUSE If you are voted for this Great Man for making The Next 4 Years Great Again, GIVE ME A THUMBSUP!! Show Your loyalty for US !!",
         "Positive",
         null
        ],
        [
         "22",
         "1.85e+18",
         "2024-11-06 06:42:50+00:00",
         "346628612.0",
         "PeggyDodson",
         "Peggy Dodson",
         "527",
         "3541",
         "23747",
         "60",
         "162856",
         "DonaldJTrump  President2024 BREAKING POTUS DonaldTrump DonaldTrump2024 winner Election2024 electionday2024 until 2025-3-31 since 2024-07-01",
         "PRESIDENT DONALD J TRUMP IS THE WINNER!! WE HAVE THE SENATE AND THE HOUSE!!",
         "Positive",
         null
        ],
        [
         "23",
         "1.85e+18",
         "2024-11-06 06:50:55+00:00",
         "8.56e+17",
         "_LoveLike_JESUS",
         "Love Like JESUS",
         "6",
         "47",
         "233",
         "3",
         "6931",
         "DonaldJTrump  President2024 BREAKING POTUS DonaldTrump DonaldTrump2024 winner Election2024 electionday2024 until 2025-3-31 since 2024-07-01",
         ". TRUMP WINS GOD BLESS AMERICA .",
         "Positive",
         null
        ],
        [
         "24",
         "1.85e+18",
         "2024-11-06 06:20:33+00:00",
         "1.27e+18",
         "JarrodRodrigue1",
         "Jarrod Rodriguez",
         "14",
         "36",
         "315",
         "0",
         "11273",
         "DonaldJTrump  President2024 BREAKING POTUS DonaldTrump DonaldTrump2024 winner Election2024 electionday2024 until 2025-3-31 since 2024-07-01",
         "TRUMP OFFICIALLY WINS LETS. FUCKING. GO.",
         "Positive",
         null
        ],
        [
         "25",
         "1.85e+18",
         "2024-11-06 06:50:16+00:00",
         "1.53e+18",
         "misspaulalondon",
         "Paula London",
         "67",
         "167",
         "916",
         "4",
         "10067",
         "DonaldJTrump  President2024 BREAKING POTUS DonaldTrump DonaldTrump2024 winner Election2024 electionday2024 until 2025-3-31 since 2024-07-01",
         "Breaking Donald Trump is the new President of the United States! YOU CANT KEEP A GOOD MAN DOWN! He fought for us all and won! Donald Trump will save the West! The UK will now celebrate with America! What a day for geopolitics? Many lefties tears will be shed",
         "Positive",
         null
        ],
        [
         "26",
         "1.85e+18",
         "2024-11-06 07:00:49+00:00",
         "1.78e+18",
         "CubanOnlyTrump",
         "Ape",
         "28",
         "727",
         "4650",
         "14",
         "166454",
         "DonaldJTrump  President2024 BREAKING POTUS DonaldTrump DonaldTrump2024 winner Election2024 electionday2024 until 2025-3-31 since 2024-07-01",
         "ITS OVER HE WON 47th President TRUMP 2024",
         "Positive",
         "DonaldTrump"
        ],
        [
         "27",
         "1.85e+18",
         "2024-11-06 07:14:35+00:00",
         "1.79e+18",
         "trumprealparody",
         "Donald J Trump  Parody",
         "3402",
         "1725",
         "13707",
         "139",
         "243964",
         "DonaldJTrump  President2024 BREAKING POTUS DonaldTrump DonaldTrump2024 winner Election2024 electionday2024 until 2025-3-31 since 2024-07-01",
         "BREAKING Donald Trump has won the 2024 Election. If you are voted for me for making The Next 4 Years Great Again, GIVE ME A THUMBSUP!! Show Your loyalty for ME !!",
         "Positive",
         null
        ],
        [
         "28",
         "1.85e+18",
         "2024-10-25 02:51:27+00:00",
         "1.66e+18",
         "MAGAVoice",
         "MAGA Voice",
         "86",
         "443",
         "2225",
         "12",
         "27105",
         "DonaldJTrump  President2024 BREAKING POTUS DonaldTrump DonaldTrump2024 winner Election2024 electionday2024 until 2025-3-31 since 2024-07-01",
         "BREAKING NOW SHE BROKE IT AND I PROMISE YOU, I WILL FIX IT Donald Trump just won the Election",
         "Negative",
         null
        ],
        [
         "29",
         "1.85e+18",
         "2024-11-05 14:03:33+00:00",
         "1.3e+18",
         "bitcoinlfgo",
         "BITCOINLFG",
         "164",
         "906",
         "6591",
         "14",
         "141953",
         "DonaldJTrump  President2024 BREAKING POTUS DonaldTrump DonaldTrump2024 winner Election2024 electionday2024 until 2025-3-31 since 2024-07-01",
         "BIG BREAKING DONALD TRUMP TO WIN IN A LAND SLIDE VICTORY",
         "Positive",
         null
        ],
        [
         "30",
         "1.86e+18",
         "2024-11-09 11:31:42+00:00",
         "1.79e+18",
         "BarronTrumpoo",
         "Barron Trump  Parody",
         "3418",
         "1128",
         "13432",
         "117",
         "181210",
         "DonaldJTrump  President2024 BREAKING POTUS DonaldTrump DonaldTrump2024 winner Election2024 electionday2024 until 2025-3-31 since 2024-07-01",
         "BREAKING My DAD Donald Trump has won the 2024 Election. If you are voted for this Great Man for making The Next 4 Years Great Again, GIVE ME A THUMBSUP!! Show Your loyalty for US !!",
         "Positive",
         null
        ],
        [
         "31",
         "1.81e+18",
         "2024-07-14 01:40:29+00:00",
         "2927513940.0",
         "Vinod_r108",
         "Rai ji",
         "293",
         "157",
         "3216",
         "42",
         "799484",
         "DonaldJTrump  President2024 BREAKING POTUS DonaldTrump DonaldTrump2024 winner Election2024 electionday2024 until 2025-3-31 since 2024-07-01",
         "Morbidful Donald Trump will now win in a landslide victory. . This incident just determined the outcome of the 2024 election.",
         "Positive",
         "DonaldTrump"
        ],
        [
         "32",
         "1.81e+18",
         "2024-07-14 01:32:33+00:00",
         "2927513940.0",
         "Vinod_r108",
         "Rai ji",
         "88",
         "193",
         "2016",
         "20",
         "344551",
         "DonaldJTrump  President2024 BREAKING POTUS DonaldTrump DonaldTrump2024 winner Election2024 electionday2024 until 2025-3-31 since 2024-07-01",
         "domlucre Donald Trump will now win in a landslide victory. . This incident just determined the outcome of the 2024 election.",
         "Positive",
         "DonaldTrump"
        ],
        [
         "33",
         "1.85e+18",
         "2024-11-05 02:10:32+00:00",
         "1.63e+18",
         "MJTruthUltra",
         "MJTruthUltra",
         "16",
         "32",
         "238",
         "6",
         "13787",
         "DonaldJTrump  President2024 BREAKING POTUS DonaldTrump DonaldTrump2024 winner Election2024 electionday2024 until 2025-3-31 since 2024-07-01",
         "BREAKING! DONALD TRUMP HAS WON THE 2024 ELECTION",
         "Neutral",
         null
        ],
        [
         "34",
         "1.81e+18",
         "2024-07-13 23:10:29+00:00",
         "2927513940.0",
         "Vinod_r108",
         "Rai ji",
         "110",
         "80",
         "1083",
         "36",
         "280167",
         "DonaldJTrump  President2024 BREAKING POTUS DonaldTrump DonaldTrump2024 winner Election2024 electionday2024 until 2025-3-31 since 2024-07-01",
         "PicturesFoIder Donald Trump will now win in a landslide victory. . This incident just determined the outcome of the 2024 election.",
         "Positive",
         "DonaldTrump"
        ],
        [
         "35",
         "1.85e+18",
         "2024-11-06 06:32:30+00:00",
         "1.51e+18",
         "PolitlcsGlobal",
         "Politics Global",
         "104",
         "723",
         "8785",
         "526",
         "875618",
         "DonaldJTrump  President2024 BREAKING POTUS DonaldTrump DonaldTrump2024 winner Election2024 electionday2024 until 2025-3-31 since 2024-07-01",
         "BREAKING Donald Trump has won the presidential election",
         "Neutral",
         null
        ],
        [
         "36",
         "1.85e+18",
         "2024-11-06 06:26:05+00:00",
         "1.84e+18",
         "america",
         "America",
         "5566",
         "65531",
         "513093",
         "7113",
         "21078286",
         "DonaldJTrump  President2024 BREAKING POTUS DonaldTrump DonaldTrump2024 winner Election2024 electionday2024 until 2025-3-31 since 2024-07-01",
         "BREAKING Donald Trump has won the 2024 Election",
         "Neutral",
         null
        ],
        [
         "37",
         "1.86e+18",
         "2024-11-09 13:25:21+00:00",
         "1.78e+18",
         "ivankatrumpo",
         "Ivanka Trump  Parody",
         "928",
         "450",
         "4415",
         "48",
         "66072",
         "DonaldJTrump  President2024 BREAKING POTUS DonaldTrump DonaldTrump2024 winner Election2024 electionday2024 until 2025-3-31 since 2024-07-01",
         "BREAKING My Father Donald Trump has won the 2024 Election. If you are voted for President Trump for making The Next 4 Years Great Again, GIVE ME A THUMBSUP!! WHO CONGRATS US !!",
         "Positive",
         null
        ],
        [
         "38",
         "1.85e+18",
         "2024-11-06 06:26:47+00:00",
         "1.3e+18",
         "bitcoinlfgo",
         "BITCOINLFG",
         "60",
         "369",
         "2544",
         "5",
         "58703",
         "DonaldJTrump  President2024 BREAKING POTUS DonaldTrump DonaldTrump2024 winner Election2024 electionday2024 until 2025-3-31 since 2024-07-01",
         "BIG BREAKING DONALD TRUMP WON THE ELECTION AND IS NOW THE PRESIDENT OF UNITED STATES",
         "Neutral",
         null
        ],
        [
         "39",
         "1.84e+18",
         "2024-09-18 23:48:58+00:00",
         "1.31e+18",
         "WATCHMESHEEP",
         "BAA BAA zZzZ",
         "188",
         "668",
         "2681",
         "46",
         "115653",
         "KamalaHarris USAElections Trump2024 Trump2024Vance until 2025-3-31 since 2024-07-01",
         "WE'RE GOING TO WIN NEW YORK KAMALA IS GOING DOWN SHE AIN'T INNOCENT. SHAME ON THE 14 REPUBLICANS THAT SIDED WITH THE ILLEGALS ON VOTING IN OUR ELECTIONS ONLY AMERICANS WILL BE VOTING FOR DONALD TRUMP. DAMN RIGHT",
         "Negative",
         "TRUMPRALLY"
        ],
        [
         "40",
         "1.85e+18",
         "2024-11-06 07:23:50+00:00",
         "295083939.0",
         "me_ganesh14",
         "Ganesh",
         "1",
         "47",
         "224",
         "2",
         "31288",
         "KamalaHarris USAElections Trump2024 Trump2024Vance until 2025-3-31 since 2024-07-01",
         "Donald Trump right now after Fox News called in his favour. He will be the 47th POTUS. has won United States of America.",
         "Positive",
         "USAElection2024, DonaldTrump, KamalaHarris, USAElections, Trump2024, Trump2024Vance"
        ],
        [
         "41",
         "1.84e+18",
         "2024-10-08 16:24:16+00:00",
         "1.36e+18",
         "kimmagagal2",
         "Kimmie",
         "50",
         "239",
         "544",
         "12",
         "19848",
         "KamalaHarris USAElections Trump2024 Trump2024Vance until 2025-3-31 since 2024-07-01",
         "Kamaalaaa just owned the last 4 years. She wouldn't have changed anything! You are done! Vote Trump2024!",
         "Negative",
         null
        ],
        [
         "42",
         "1.83e+18",
         "2024-09-13 02:26:14+00:00",
         "1.25e+18",
         "BelannF",
         "BelannF",
         "36",
         "468",
         "819",
         "14",
         "17119",
         "KamalaHarris USAElections Trump2024 Trump2024Vance until 2025-3-31 since 2024-07-01",
         "THIS IS ALL YOU NEED TO KNOW BEFORE YOU VOTE... President Trump will restore law and order He will protect our police We know he will secure the border There will be a HUGH deportation effort AND Trump will chose an AG who will prosecute criminals to the fullest extent",
         "Positive",
         null
        ],
        [
         "43",
         "1.84e+18",
         "2024-10-11 16:49:18+00:00",
         "30540789.0",
         "montaga",
         "Antoine Tucker",
         "102",
         "884",
         "2458",
         "58",
         "73678",
         "KamalaHarris USAElections Trump2024 Trump2024Vance until 2025-3-31 since 2024-07-01",
         "Lets imagine .kamalaharris economy cant make this up and all the ppl saying vote for her are either bought puppets and mindless puppets .realDonaldTrump has a plan Drill MAGA",
         "Negative",
         null
        ],
        [
         "44",
         "1.85e+18",
         "2024-11-04 18:13:12+00:00",
         "3003886063.0",
         "Sky_Lee_1",
         "Skyleigh Uhrich",
         "22",
         "233",
         "715",
         "5",
         "20377",
         "KamalaHarris USAElections Trump2024 Trump2024Vance until 2025-3-31 since 2024-07-01",
         "Make no mistake WE WILL WIN! VP KamalaHarris will be our next President for all Americans!",
         "Positive",
         "VoteBlueChooseJoy"
        ],
        [
         "45",
         "1.85e+18",
         "2024-11-04 21:22:26+00:00",
         "1.8e+18",
         "KamalaforPA",
         "Kamala for PA",
         "33",
         "353",
         "777",
         "6",
         "30480",
         "KamalaHarris USAElections Trump2024 Trump2024Vance until 2025-3-31 since 2024-07-01",
         "Philly is ready to fight and Philly is ready to win. Donald Trump is a danger to our communities who only cares about himself. We will make our voices heard tomorrow when we show up at the polls and elect KamalaHarris as our next President.",
         "Negative",
         null
        ],
        [
         "46",
         "1.82e+18",
         "2024-08-05 21:30:06+00:00",
         "1.43e+18",
         "Sassafrass_84",
         "Sassafrass84",
         "47",
         "290",
         "772",
         "24",
         "52689",
         "KamalaHarris USAElections Trump2024 Trump2024Vance until 2025-3-31 since 2024-07-01",
         "This video is bad ass. Seriously. If you don't want 4 more years of the Biden agenda through kamala, you need to vote for Trump. Trump was right about everything. I'll take Trump cash over a",
         "Negative",
         "KamalaCrash"
        ],
        [
         "47",
         "1.85e+18",
         "2024-11-03 15:09:12+00:00",
         "7.4e+17",
         "BasedSavannah",
         "Savannah",
         "5",
         "51",
         "352",
         "1",
         "4843",
         "KamalaHarris USAElections Trump2024 Trump2024Vance until 2025-3-31 since 2024-07-01",
         "VoteTrump2024 to save the U.S. from Democrat destruction. Our country cant survive 4 more years of their insanity. Its the economy and the border. We need Trump to fix it.",
         "Negative",
         "Trump2024"
        ],
        [
         "48",
         "1.85e+18",
         "2024-11-01 21:03:05+00:00",
         "1.6e+18",
         "Loveof1776",
         "Victoria",
         "15",
         "160",
         "220",
         "2",
         "9585",
         "KamalaHarris USAElections Trump2024 Trump2024Vance until 2025-3-31 since 2024-07-01",
         "Kmlas counting on her instinct to win the election. She knows nothing about polling. Theres no need for her to worry, because the polls say shes losing and Trump will make America great again!",
         "Negative",
         null
        ],
        [
         "49",
         "1.85e+18",
         "2024-11-05 12:15:41+00:00",
         "295083939.0",
         "me_ganesh14",
         "Ganesh",
         "8",
         "26",
         "228",
         "0",
         "22087",
         "KamalaHarris USAElections Trump2024 Trump2024Vance until 2025-3-31 since 2024-07-01",
         "As an Indian who wins the USElection2024 is not much important for me but still, I feel DonaldTrump will be a better for the world than because his last term he ensured peace in Middle East also regime change operation will slowdown",
         "Neutral",
         "USElection2024, DonaldTrump, KamalaHarris, Trump2024, Kamala4President"
        ]
       ],
       "shape": {
        "columns": 14,
        "rows": 1166
       }
      },
      "text/html": [
       "<div>\n",
       "<style scoped>\n",
       "    .dataframe tbody tr th:only-of-type {\n",
       "        vertical-align: middle;\n",
       "    }\n",
       "\n",
       "    .dataframe tbody tr th {\n",
       "        vertical-align: top;\n",
       "    }\n",
       "\n",
       "    .dataframe thead th {\n",
       "        text-align: right;\n",
       "    }\n",
       "</style>\n",
       "<table border=\"1\" class=\"dataframe\">\n",
       "  <thead>\n",
       "    <tr style=\"text-align: right;\">\n",
       "      <th></th>\n",
       "      <th>id</th>\n",
       "      <th>date</th>\n",
       "      <th>user_id</th>\n",
       "      <th>user_username</th>\n",
       "      <th>user_displayname</th>\n",
       "      <th>replyCount</th>\n",
       "      <th>retweetCount</th>\n",
       "      <th>likeCount</th>\n",
       "      <th>quoteCount</th>\n",
       "      <th>viewCount</th>\n",
       "      <th>searched_keyword</th>\n",
       "      <th>cleaned_text</th>\n",
       "      <th>Sentiment</th>\n",
       "      <th>hashtag_text</th>\n",
       "    </tr>\n",
       "  </thead>\n",
       "  <tbody>\n",
       "    <tr>\n",
       "      <th>0</th>\n",
       "      <td>1.850000e+18</td>\n",
       "      <td>2024-11-05 14:23:43+00:00</td>\n",
       "      <td>2.237591e+09</td>\n",
       "      <td>ImKnotTheOne</td>\n",
       "      <td>Charli Huxley</td>\n",
       "      <td>169</td>\n",
       "      <td>326</td>\n",
       "      <td>2788</td>\n",
       "      <td>33</td>\n",
       "      <td>158104</td>\n",
       "      <td>VoteTrump VoteKamala ElectionDay Election2024 ...</td>\n",
       "      <td>Because only garbage people would vote for thi...</td>\n",
       "      <td>Negative</td>\n",
       "      <td>Trump2024, VotedforTrump, ElectionDay</td>\n",
       "    </tr>\n",
       "    <tr>\n",
       "      <th>1</th>\n",
       "      <td>1.850000e+18</td>\n",
       "      <td>2024-10-23 15:22:44+00:00</td>\n",
       "      <td>5.377095e+08</td>\n",
       "      <td>LauraLoomer</td>\n",
       "      <td>Laura Loomer</td>\n",
       "      <td>2205</td>\n",
       "      <td>8598</td>\n",
       "      <td>47970</td>\n",
       "      <td>176</td>\n",
       "      <td>550747</td>\n",
       "      <td>VoteTrump VoteKamala ElectionDay Election2024 ...</td>\n",
       "      <td>JUST VOTED IN FLORIDA FOR THE GREATEST PRESIDE...</td>\n",
       "      <td>Positive</td>\n",
       "      <td>Trump2024, AmericaFirst</td>\n",
       "    </tr>\n",
       "    <tr>\n",
       "      <th>2</th>\n",
       "      <td>1.850000e+18</td>\n",
       "      <td>2024-11-05 11:34:56+00:00</td>\n",
       "      <td>2.237591e+09</td>\n",
       "      <td>ImKnotTheOne</td>\n",
       "      <td>Charli Huxley</td>\n",
       "      <td>190</td>\n",
       "      <td>735</td>\n",
       "      <td>6803</td>\n",
       "      <td>44</td>\n",
       "      <td>346181</td>\n",
       "      <td>VoteTrump VoteKamala ElectionDay Election2024 ...</td>\n",
       "      <td>Vote as if your life depends on it. and FCK Do...</td>\n",
       "      <td>Negative</td>\n",
       "      <td>ElectionDay, Election2024, VotedforTrump</td>\n",
       "    </tr>\n",
       "    <tr>\n",
       "      <th>3</th>\n",
       "      <td>1.850000e+18</td>\n",
       "      <td>2024-11-05 15:39:26+00:00</td>\n",
       "      <td>4.729379e+07</td>\n",
       "      <td>w_terrence</td>\n",
       "      <td>Terrence K Williams</td>\n",
       "      <td>265</td>\n",
       "      <td>1252</td>\n",
       "      <td>6069</td>\n",
       "      <td>31</td>\n",
       "      <td>67609</td>\n",
       "      <td>VoteTrump VoteKamala ElectionDay Election2024 ...</td>\n",
       "      <td>TODAY IS THAT DAY Lets do this. Get up and go ...</td>\n",
       "      <td>Negative</td>\n",
       "      <td>ElectionDay, electionday2024</td>\n",
       "    </tr>\n",
       "    <tr>\n",
       "      <th>4</th>\n",
       "      <td>1.840000e+18</td>\n",
       "      <td>2024-09-19 20:23:25+00:00</td>\n",
       "      <td>1.360000e+18</td>\n",
       "      <td>kimmagagal2</td>\n",
       "      <td>Kimmie</td>\n",
       "      <td>31</td>\n",
       "      <td>243</td>\n",
       "      <td>600</td>\n",
       "      <td>8</td>\n",
       "      <td>19341</td>\n",
       "      <td>VoteTrump VoteKamala ElectionDay Election2024 ...</td>\n",
       "      <td>A message for Kamaaaala voters! Do you want pe...</td>\n",
       "      <td>Negative</td>\n",
       "      <td>NaN</td>\n",
       "    </tr>\n",
       "    <tr>\n",
       "      <th>...</th>\n",
       "      <td>...</td>\n",
       "      <td>...</td>\n",
       "      <td>...</td>\n",
       "      <td>...</td>\n",
       "      <td>...</td>\n",
       "      <td>...</td>\n",
       "      <td>...</td>\n",
       "      <td>...</td>\n",
       "      <td>...</td>\n",
       "      <td>...</td>\n",
       "      <td>...</td>\n",
       "      <td>...</td>\n",
       "      <td>...</td>\n",
       "      <td>...</td>\n",
       "    </tr>\n",
       "    <tr>\n",
       "      <th>1161</th>\n",
       "      <td>1.850000e+18</td>\n",
       "      <td>2024-10-13 03:21:37+00:00</td>\n",
       "      <td>1.370000e+18</td>\n",
       "      <td>IRAtheGhostARI</td>\n",
       "      <td>IRA The Ghost of ARI u O</td>\n",
       "      <td>114</td>\n",
       "      <td>182</td>\n",
       "      <td>1459</td>\n",
       "      <td>14</td>\n",
       "      <td>57632</td>\n",
       "      <td>Election2024 Trump 2024 VoteForTrump VoteTrump...</td>\n",
       "      <td>realDonaldTrump If you are voting TRUMP hit th...</td>\n",
       "      <td>Positive</td>\n",
       "      <td>NaN</td>\n",
       "    </tr>\n",
       "    <tr>\n",
       "      <th>1162</th>\n",
       "      <td>1.850000e+18</td>\n",
       "      <td>2024-10-17 16:28:08+00:00</td>\n",
       "      <td>1.520000e+18</td>\n",
       "      <td>MarindaVannoy1</td>\n",
       "      <td>Mandy</td>\n",
       "      <td>137</td>\n",
       "      <td>131</td>\n",
       "      <td>1612</td>\n",
       "      <td>10</td>\n",
       "      <td>21270</td>\n",
       "      <td>Election2024 Trump 2024 VoteForTrump VoteTrump...</td>\n",
       "      <td>VOTE FIGHT VOTE FIGHT VOTE FIGHT VOTE FIGHT VO...</td>\n",
       "      <td>Negative</td>\n",
       "      <td>NaN</td>\n",
       "    </tr>\n",
       "    <tr>\n",
       "      <th>1163</th>\n",
       "      <td>1.850000e+18</td>\n",
       "      <td>2024-11-04 16:42:28+00:00</td>\n",
       "      <td>1.450000e+18</td>\n",
       "      <td>PURE_BL00D2</td>\n",
       "      <td>S I G</td>\n",
       "      <td>25</td>\n",
       "      <td>263</td>\n",
       "      <td>289</td>\n",
       "      <td>5</td>\n",
       "      <td>10903</td>\n",
       "      <td>Election2024 Trump 2024 VoteForTrump VoteTrump...</td>\n",
       "      <td>IT'S OUR TIME PATRIOTS..! History in the makin...</td>\n",
       "      <td>Positive</td>\n",
       "      <td>TrumpVance2024, Vote</td>\n",
       "    </tr>\n",
       "    <tr>\n",
       "      <th>1164</th>\n",
       "      <td>1.850000e+18</td>\n",
       "      <td>2024-11-05 15:08:33+00:00</td>\n",
       "      <td>1.430000e+18</td>\n",
       "      <td>Sassafrass_84</td>\n",
       "      <td>Sassafrass84</td>\n",
       "      <td>22</td>\n",
       "      <td>170</td>\n",
       "      <td>508</td>\n",
       "      <td>7</td>\n",
       "      <td>6842</td>\n",
       "      <td>Election2024 Trump 2024 VoteForTrump VoteTrump...</td>\n",
       "      <td>Today is the day. Don't sit this one out. Go v...</td>\n",
       "      <td>Positive</td>\n",
       "      <td>NaN</td>\n",
       "    </tr>\n",
       "    <tr>\n",
       "      <th>1165</th>\n",
       "      <td>1.850000e+18</td>\n",
       "      <td>2024-11-05 12:13:00+00:00</td>\n",
       "      <td>1.360000e+18</td>\n",
       "      <td>yourfriendSOMMI</td>\n",
       "      <td>yourfriendSOMMI</td>\n",
       "      <td>32</td>\n",
       "      <td>66</td>\n",
       "      <td>494</td>\n",
       "      <td>7</td>\n",
       "      <td>10108</td>\n",
       "      <td>Election2024 Trump 2024 VoteForTrump VoteTrump...</td>\n",
       "      <td>Listen up Americans Go out there and Vote for ...</td>\n",
       "      <td>Positive</td>\n",
       "      <td>NaN</td>\n",
       "    </tr>\n",
       "  </tbody>\n",
       "</table>\n",
       "<p>1166 rows × 14 columns</p>\n",
       "</div>"
      ],
      "text/plain": [
       "                id                       date       user_id    user_username  \\\n",
       "0     1.850000e+18  2024-11-05 14:23:43+00:00  2.237591e+09     ImKnotTheOne   \n",
       "1     1.850000e+18  2024-10-23 15:22:44+00:00  5.377095e+08      LauraLoomer   \n",
       "2     1.850000e+18  2024-11-05 11:34:56+00:00  2.237591e+09     ImKnotTheOne   \n",
       "3     1.850000e+18  2024-11-05 15:39:26+00:00  4.729379e+07       w_terrence   \n",
       "4     1.840000e+18  2024-09-19 20:23:25+00:00  1.360000e+18      kimmagagal2   \n",
       "...            ...                        ...           ...              ...   \n",
       "1161  1.850000e+18  2024-10-13 03:21:37+00:00  1.370000e+18   IRAtheGhostARI   \n",
       "1162  1.850000e+18  2024-10-17 16:28:08+00:00  1.520000e+18   MarindaVannoy1   \n",
       "1163  1.850000e+18  2024-11-04 16:42:28+00:00  1.450000e+18      PURE_BL00D2   \n",
       "1164  1.850000e+18  2024-11-05 15:08:33+00:00  1.430000e+18    Sassafrass_84   \n",
       "1165  1.850000e+18  2024-11-05 12:13:00+00:00  1.360000e+18  yourfriendSOMMI   \n",
       "\n",
       "              user_displayname  replyCount  retweetCount  likeCount  \\\n",
       "0                Charli Huxley         169           326       2788   \n",
       "1                 Laura Loomer        2205          8598      47970   \n",
       "2                Charli Huxley         190           735       6803   \n",
       "3          Terrence K Williams         265          1252       6069   \n",
       "4                       Kimmie          31           243        600   \n",
       "...                        ...         ...           ...        ...   \n",
       "1161  IRA The Ghost of ARI u O         114           182       1459   \n",
       "1162                     Mandy         137           131       1612   \n",
       "1163                     S I G          25           263        289   \n",
       "1164              Sassafrass84          22           170        508   \n",
       "1165           yourfriendSOMMI          32            66        494   \n",
       "\n",
       "      quoteCount  viewCount  \\\n",
       "0             33     158104   \n",
       "1            176     550747   \n",
       "2             44     346181   \n",
       "3             31      67609   \n",
       "4              8      19341   \n",
       "...          ...        ...   \n",
       "1161          14      57632   \n",
       "1162          10      21270   \n",
       "1163           5      10903   \n",
       "1164           7       6842   \n",
       "1165           7      10108   \n",
       "\n",
       "                                       searched_keyword  \\\n",
       "0     VoteTrump VoteKamala ElectionDay Election2024 ...   \n",
       "1     VoteTrump VoteKamala ElectionDay Election2024 ...   \n",
       "2     VoteTrump VoteKamala ElectionDay Election2024 ...   \n",
       "3     VoteTrump VoteKamala ElectionDay Election2024 ...   \n",
       "4     VoteTrump VoteKamala ElectionDay Election2024 ...   \n",
       "...                                                 ...   \n",
       "1161  Election2024 Trump 2024 VoteForTrump VoteTrump...   \n",
       "1162  Election2024 Trump 2024 VoteForTrump VoteTrump...   \n",
       "1163  Election2024 Trump 2024 VoteForTrump VoteTrump...   \n",
       "1164  Election2024 Trump 2024 VoteForTrump VoteTrump...   \n",
       "1165  Election2024 Trump 2024 VoteForTrump VoteTrump...   \n",
       "\n",
       "                                           cleaned_text Sentiment  \\\n",
       "0     Because only garbage people would vote for thi...  Negative   \n",
       "1     JUST VOTED IN FLORIDA FOR THE GREATEST PRESIDE...  Positive   \n",
       "2     Vote as if your life depends on it. and FCK Do...  Negative   \n",
       "3     TODAY IS THAT DAY Lets do this. Get up and go ...  Negative   \n",
       "4     A message for Kamaaaala voters! Do you want pe...  Negative   \n",
       "...                                                 ...       ...   \n",
       "1161  realDonaldTrump If you are voting TRUMP hit th...  Positive   \n",
       "1162  VOTE FIGHT VOTE FIGHT VOTE FIGHT VOTE FIGHT VO...  Negative   \n",
       "1163  IT'S OUR TIME PATRIOTS..! History in the makin...  Positive   \n",
       "1164  Today is the day. Don't sit this one out. Go v...  Positive   \n",
       "1165  Listen up Americans Go out there and Vote for ...  Positive   \n",
       "\n",
       "                                  hashtag_text  \n",
       "0        Trump2024, VotedforTrump, ElectionDay  \n",
       "1                      Trump2024, AmericaFirst  \n",
       "2     ElectionDay, Election2024, VotedforTrump  \n",
       "3                 ElectionDay, electionday2024  \n",
       "4                                          NaN  \n",
       "...                                        ...  \n",
       "1161                                       NaN  \n",
       "1162                                       NaN  \n",
       "1163                      TrumpVance2024, Vote  \n",
       "1164                                       NaN  \n",
       "1165                                       NaN  \n",
       "\n",
       "[1166 rows x 14 columns]"
      ]
     },
     "execution_count": 3,
     "metadata": {},
     "output_type": "execute_result"
    }
   ],
   "source": [
    "\n",
    "# Load data\n",
    "data = pd.read_csv('comments_labeled.csv')\n",
    "data"
   ]
  },
  {
   "cell_type": "markdown",
   "id": "14dc4a8a",
   "metadata": {},
   "source": [
    "### Chuyển 3 sentiment Positive, Negative , Neutral thành dạng số\n",
    "+ clean lại một lần nữa các ký tự đặc biệt\n"
   ]
  },
  {
   "cell_type": "code",
   "execution_count": 4,
   "id": "9447ccd1",
   "metadata": {},
   "outputs": [
    {
     "name": "stderr",
     "output_type": "stream",
     "text": [
      "<>:2: SyntaxWarning: invalid escape sequence '\\s'\n",
      "<>:2: SyntaxWarning: invalid escape sequence '\\s'\n",
      "C:\\Users\\Admin\\AppData\\Local\\Temp\\ipykernel_6204\\2522857093.py:2: SyntaxWarning: invalid escape sequence '\\s'\n",
      "  data['cleaned_text'] = data['cleaned_text'].str.replace('[^a-zA-Z0-9\\s]', '', regex=True)\n"
     ]
    }
   ],
   "source": [
    "\n",
    "# Cleaning the text data (removing unwanted characters, unnecessary spaces)\n",
    "data['cleaned_text'] = data['cleaned_text'].str.replace('[^a-zA-Z0-9\\s]', '', regex=True)\n",
    "\n",
    "# Mapping sentiment labels to numerical values for training models\n",
    "sentiment_map = {'Positive': 1, 'Negative': 0, 'Neutral': 2}\n",
    "data['Sentiment_num'] = data['Sentiment'].map(sentiment_map)\n"
   ]
  },
  {
   "cell_type": "markdown",
   "id": "943914c7",
   "metadata": {},
   "source": [
    "### chia train, test + khởi tạo các tokenizers\n"
   ]
  },
  {
   "cell_type": "code",
   "execution_count": 5,
   "id": "17cb5ce6",
   "metadata": {},
   "outputs": [
    {
     "name": "stderr",
     "output_type": "stream",
     "text": [
      "c:\\Users\\Admin\\miniconda3\\Lib\\site-packages\\transformers\\tokenization_utils_base.py:1601: FutureWarning: `clean_up_tokenization_spaces` was not set. It will be set to `True` by default. This behavior will be depracted in transformers v4.45, and will be then set to `False` by default. For more details check this issue: https://github.com/huggingface/transformers/issues/31884\n",
      "  warnings.warn(\n"
     ]
    }
   ],
   "source": [
    "\n",
    "# Splitting data into train and test sets\n",
    "X_train, X_test, y_train, y_test = train_test_split(data['cleaned_text'], data['Sentiment_num'], test_size=0.2, random_state=42)\n",
    "\n",
    "# Initializing tokenizers for BERT, RoBERTa, and DistilBERT\n",
    "bert_tokenizer = BertTokenizer.from_pretrained('bert-base-uncased')\n",
    "roberta_tokenizer = RobertaTokenizer.from_pretrained('roberta-base')\n",
    "distilbert_tokenizer = DistilBertTokenizer.from_pretrained('distilbert-base-uncased')\n"
   ]
  },
  {
   "cell_type": "markdown",
   "id": "7e4be720",
   "metadata": {},
   "source": [
    "### Training model BERT\n"
   ]
  },
  {
   "cell_type": "code",
   "execution_count": 6,
   "id": "66fbf107",
   "metadata": {},
   "outputs": [
    {
     "name": "stderr",
     "output_type": "stream",
     "text": [
      "Some weights of BertForSequenceClassification were not initialized from the model checkpoint at bert-base-uncased and are newly initialized: ['classifier.bias', 'classifier.weight']\n",
      "You should probably TRAIN this model on a down-stream task to be able to use it for predictions and inference.\n",
      "Epoch 1: 100%|██████████| 59/59 [01:31<00:00,  1.55s/it]\n"
     ]
    },
    {
     "name": "stdout",
     "output_type": "stream",
     "text": [
      "Epoch 1 - Average Loss: 0.9892058059320612\n"
     ]
    },
    {
     "name": "stderr",
     "output_type": "stream",
     "text": [
      "Epoch 2: 100%|██████████| 59/59 [01:25<00:00,  1.44s/it]\n"
     ]
    },
    {
     "name": "stdout",
     "output_type": "stream",
     "text": [
      "Epoch 2 - Average Loss: 0.7974704352475829\n"
     ]
    },
    {
     "name": "stderr",
     "output_type": "stream",
     "text": [
      "Epoch 3: 100%|██████████| 59/59 [01:23<00:00,  1.42s/it]\n"
     ]
    },
    {
     "name": "stdout",
     "output_type": "stream",
     "text": [
      "Epoch 3 - Average Loss: 0.5364569299301859\n"
     ]
    },
    {
     "name": "stderr",
     "output_type": "stream",
     "text": [
      "Evaluating: 100%|██████████| 15/15 [00:05<00:00,  2.59it/s]"
     ]
    },
    {
     "name": "stdout",
     "output_type": "stream",
     "text": [
      "BERT Classification Report:\n",
      "              precision    recall  f1-score   support\n",
      "\n",
      "           0       0.78      0.81      0.79        77\n",
      "           1       0.83      0.80      0.82       122\n",
      "           2       0.62      0.66      0.64        35\n",
      "\n",
      "    accuracy                           0.78       234\n",
      "   macro avg       0.75      0.76      0.75       234\n",
      "weighted avg       0.78      0.78      0.78       234\n",
      "\n"
     ]
    },
    {
     "name": "stderr",
     "output_type": "stream",
     "text": [
      "\n"
     ]
    }
   ],
   "source": [
    "import torch\n",
    "from sklearn.metrics import classification_report, accuracy_score\n",
    "from transformers import BertForSequenceClassification, BertTokenizer, RobertaForSequenceClassification, RobertaTokenizer, DistilBertForSequenceClassification, DistilBertTokenizer\n",
    "from torch.utils.data import DataLoader, TensorDataset\n",
    "from tqdm import tqdm\n",
    "\n",
    "# Function to tokenize data for transformer models\n",
    "def tokenize_data(tokenizer, texts, max_length=64):\n",
    "    return tokenizer(texts.tolist(), truncation=True, padding=True, max_length=max_length, return_tensors='pt')\n",
    "\n",
    "# Initialize Tokenizers for BERT, RoBERTa, and DistilBERT\n",
    "bert_tokenizer = BertTokenizer.from_pretrained('bert-base-uncased')\n",
    "roberta_tokenizer = RobertaTokenizer.from_pretrained('roberta-base')\n",
    "distilbert_tokenizer = DistilBertTokenizer.from_pretrained('distilbert-base-uncased')\n",
    "\n",
    "# Function to create DataLoader for batch training\n",
    "def create_data_loader(input_ids, attention_mask, labels, batch_size=16):\n",
    "    dataset = TensorDataset(input_ids, attention_mask, labels)\n",
    "    return DataLoader(dataset, batch_size=batch_size, shuffle=True)\n",
    "\n",
    "# Define the model training function\n",
    "def train_model(model, train_loader, optimizer, epochs=3):\n",
    "    model.train()\n",
    "    for epoch in range(epochs):\n",
    "        epoch_loss = 0\n",
    "        for batch in tqdm(train_loader, desc=f\"Epoch {epoch+1}\"):\n",
    "            optimizer.zero_grad()\n",
    "            input_ids, attention_mask, labels = batch\n",
    "            outputs = model(input_ids, attention_mask=attention_mask, labels=labels)\n",
    "            loss = outputs.loss\n",
    "            loss.backward()\n",
    "            optimizer.step()\n",
    "            epoch_loss += loss.item()\n",
    "        print(f'Epoch {epoch+1} - Average Loss: {epoch_loss / len(train_loader)}')\n",
    "\n",
    "# Function to evaluate the model\n",
    "def evaluate_model(model, test_loader):\n",
    "    model.eval()\n",
    "    predictions, true_labels = [], []\n",
    "    with torch.no_grad():\n",
    "        for batch in tqdm(test_loader, desc=\"Evaluating\"):\n",
    "            input_ids, attention_mask, labels = batch\n",
    "            outputs = model(input_ids, attention_mask=attention_mask)\n",
    "            logits = outputs.logits\n",
    "            _, predicted = torch.max(logits, dim=1)\n",
    "            predictions.extend(predicted.cpu().numpy())\n",
    "            true_labels.extend(labels.cpu().numpy())\n",
    "    return predictions, true_labels\n",
    "\n",
    "# Create train and test data loaders for BERT\n",
    "train_bert_tokens = tokenize_data(bert_tokenizer, X_train)\n",
    "test_bert_tokens = tokenize_data(bert_tokenizer, X_test)\n",
    "\n",
    "train_bert_loader = create_data_loader(train_bert_tokens['input_ids'], train_bert_tokens['attention_mask'], torch.tensor(y_train.tolist()))\n",
    "test_bert_loader = create_data_loader(test_bert_tokens['input_ids'], test_bert_tokens['attention_mask'], torch.tensor(y_test.tolist()))\n",
    "\n",
    "# Initialize BERT model and optimizer\n",
    "bert_model = BertForSequenceClassification.from_pretrained('bert-base-uncased', num_labels=3)\n",
    "optimizer = torch.optim.Adam(bert_model.parameters(), lr=1e-5)\n",
    "\n",
    "# Train and evaluate BERT model\n",
    "train_model(bert_model, train_bert_loader, optimizer)\n",
    "predictions, true_labels = evaluate_model(bert_model, test_bert_loader)\n",
    "print(\"BERT Classification Report:\")\n",
    "print(classification_report(true_labels, predictions))\n"
   ]
  },
  {
   "cell_type": "markdown",
   "id": "99270c09",
   "metadata": {},
   "source": [
    "### Traning RoBERTa, DistilBERT"
   ]
  },
  {
   "cell_type": "code",
   "execution_count": 7,
   "id": "13dc1c5d",
   "metadata": {},
   "outputs": [
    {
     "name": "stderr",
     "output_type": "stream",
     "text": [
      "Some weights of RobertaForSequenceClassification were not initialized from the model checkpoint at roberta-base and are newly initialized: ['classifier.dense.bias', 'classifier.dense.weight', 'classifier.out_proj.bias', 'classifier.out_proj.weight']\n",
      "You should probably TRAIN this model on a down-stream task to be able to use it for predictions and inference.\n"
     ]
    },
    {
     "name": "stdout",
     "output_type": "stream",
     "text": [
      "Training RoBERTa Model...\n"
     ]
    },
    {
     "name": "stderr",
     "output_type": "stream",
     "text": [
      "Epoch 1: 100%|██████████| 59/59 [01:25<00:00,  1.45s/it]\n"
     ]
    },
    {
     "name": "stdout",
     "output_type": "stream",
     "text": [
      "Epoch 1 - Average Loss: 1.0001868171206976\n"
     ]
    },
    {
     "name": "stderr",
     "output_type": "stream",
     "text": [
      "Epoch 2: 100%|██████████| 59/59 [01:25<00:00,  1.45s/it]\n"
     ]
    },
    {
     "name": "stdout",
     "output_type": "stream",
     "text": [
      "Epoch 2 - Average Loss: 0.6652515555842448\n"
     ]
    },
    {
     "name": "stderr",
     "output_type": "stream",
     "text": [
      "Epoch 3: 100%|██████████| 59/59 [01:26<00:00,  1.46s/it]\n"
     ]
    },
    {
     "name": "stdout",
     "output_type": "stream",
     "text": [
      "Epoch 3 - Average Loss: 0.4326040376040895\n"
     ]
    },
    {
     "name": "stderr",
     "output_type": "stream",
     "text": [
      "Evaluating: 100%|██████████| 15/15 [00:06<00:00,  2.46it/s]\n"
     ]
    },
    {
     "name": "stdout",
     "output_type": "stream",
     "text": [
      "RoBERTa Classification Report:\n",
      "              precision    recall  f1-score   support\n",
      "\n",
      "           0       0.72      0.95      0.82        77\n",
      "           1       0.86      0.75      0.80       122\n",
      "           2       0.78      0.60      0.68        35\n",
      "\n",
      "    accuracy                           0.79       234\n",
      "   macro avg       0.79      0.76      0.77       234\n",
      "weighted avg       0.80      0.79      0.79       234\n",
      "\n"
     ]
    },
    {
     "name": "stderr",
     "output_type": "stream",
     "text": [
      "Some weights of DistilBertForSequenceClassification were not initialized from the model checkpoint at distilbert-base-uncased and are newly initialized: ['classifier.bias', 'classifier.weight', 'pre_classifier.bias', 'pre_classifier.weight']\n",
      "You should probably TRAIN this model on a down-stream task to be able to use it for predictions and inference.\n"
     ]
    },
    {
     "name": "stdout",
     "output_type": "stream",
     "text": [
      "Training DistilBERT Model...\n"
     ]
    },
    {
     "name": "stderr",
     "output_type": "stream",
     "text": [
      "Epoch 1: 100%|██████████| 59/59 [00:40<00:00,  1.46it/s]\n"
     ]
    },
    {
     "name": "stdout",
     "output_type": "stream",
     "text": [
      "Epoch 1 - Average Loss: 0.9735585814815456\n"
     ]
    },
    {
     "name": "stderr",
     "output_type": "stream",
     "text": [
      "Epoch 2: 100%|██████████| 59/59 [00:42<00:00,  1.40it/s]\n"
     ]
    },
    {
     "name": "stdout",
     "output_type": "stream",
     "text": [
      "Epoch 2 - Average Loss: 0.7943821574671793\n"
     ]
    },
    {
     "name": "stderr",
     "output_type": "stream",
     "text": [
      "Epoch 3: 100%|██████████| 59/59 [00:43<00:00,  1.36it/s]\n"
     ]
    },
    {
     "name": "stdout",
     "output_type": "stream",
     "text": [
      "Epoch 3 - Average Loss: 0.6143481559672598\n"
     ]
    },
    {
     "name": "stderr",
     "output_type": "stream",
     "text": [
      "Evaluating: 100%|██████████| 15/15 [00:03<00:00,  4.82it/s]"
     ]
    },
    {
     "name": "stdout",
     "output_type": "stream",
     "text": [
      "DistilBERT Classification Report:\n",
      "              precision    recall  f1-score   support\n",
      "\n",
      "           0       0.78      0.82      0.80        77\n",
      "           1       0.78      0.86      0.82       122\n",
      "           2       0.63      0.34      0.44        35\n",
      "\n",
      "    accuracy                           0.77       234\n",
      "   macro avg       0.73      0.67      0.69       234\n",
      "weighted avg       0.76      0.77      0.76       234\n",
      "\n"
     ]
    },
    {
     "name": "stderr",
     "output_type": "stream",
     "text": [
      "\n"
     ]
    }
   ],
   "source": [
    "# Create train and test data loaders for RoBERTa\n",
    "train_roberta_tokens = tokenize_data(roberta_tokenizer, X_train)\n",
    "test_roberta_tokens = tokenize_data(roberta_tokenizer, X_test)\n",
    "\n",
    "train_roberta_loader = create_data_loader(train_roberta_tokens['input_ids'], train_roberta_tokens['attention_mask'], torch.tensor(y_train.tolist()))\n",
    "test_roberta_loader = create_data_loader(test_roberta_tokens['input_ids'], test_roberta_tokens['attention_mask'], torch.tensor(y_test.tolist()))\n",
    "\n",
    "# Initialize RoBERTa model and optimizer\n",
    "roberta_model = RobertaForSequenceClassification.from_pretrained('roberta-base', num_labels=3)\n",
    "optimizer_roberta = torch.optim.Adam(roberta_model.parameters(), lr=1e-5)\n",
    "\n",
    "# Train and evaluate RoBERTa model\n",
    "print(\"Training RoBERTa Model...\")\n",
    "train_model(roberta_model, train_roberta_loader, optimizer_roberta)\n",
    "predictions_roberta, true_labels_roberta = evaluate_model(roberta_model, test_roberta_loader)\n",
    "print(\"RoBERTa Classification Report:\")\n",
    "print(classification_report(true_labels_roberta, predictions_roberta))\n",
    "\n",
    "# Create train and test data loaders for DistilBERT\n",
    "train_distilbert_tokens = tokenize_data(distilbert_tokenizer, X_train)\n",
    "test_distilbert_tokens = tokenize_data(distilbert_tokenizer, X_test)\n",
    "\n",
    "train_distilbert_loader = create_data_loader(train_distilbert_tokens['input_ids'], train_distilbert_tokens['attention_mask'], torch.tensor(y_train.tolist()))\n",
    "test_distilbert_loader = create_data_loader(test_distilbert_tokens['input_ids'], test_distilbert_tokens['attention_mask'], torch.tensor(y_test.tolist()))\n",
    "\n",
    "# Initialize DistilBERT model and optimizer\n",
    "distilbert_model = DistilBertForSequenceClassification.from_pretrained('distilbert-base-uncased', num_labels=3)\n",
    "optimizer_distilbert = torch.optim.Adam(distilbert_model.parameters(), lr=1e-5)\n",
    "\n",
    "# Train and evaluate DistilBERT model\n",
    "print(\"Training DistilBERT Model...\")\n",
    "train_model(distilbert_model, train_distilbert_loader, optimizer_distilbert)\n",
    "predictions_distilbert, true_labels_distilbert = evaluate_model(distilbert_model, test_distilbert_loader)\n",
    "print(\"DistilBERT Classification Report:\")\n",
    "print(classification_report(true_labels_distilbert, predictions_distilbert))\n"
   ]
  },
  {
   "cell_type": "markdown",
   "id": "58684078",
   "metadata": {},
   "source": [
    "### Training model Logistic regression and Vader"
   ]
  },
  {
   "cell_type": "code",
   "execution_count": 8,
   "id": "e0a4f001",
   "metadata": {},
   "outputs": [
    {
     "name": "stdout",
     "output_type": "stream",
     "text": [
      "Logistic Regression Classification Report:\n",
      "              precision    recall  f1-score   support\n",
      "\n",
      "           0       0.71      0.68      0.69        77\n",
      "           1       0.71      0.84      0.77       122\n",
      "           2       0.81      0.37      0.51        35\n",
      "\n",
      "    accuracy                           0.72       234\n",
      "   macro avg       0.75      0.63      0.66       234\n",
      "weighted avg       0.73      0.72      0.71       234\n",
      "\n",
      "Vader Sentiment Classification Report:\n",
      "              precision    recall  f1-score   support\n",
      "\n",
      "           0       0.75      0.53      0.62        77\n",
      "           1       0.67      0.75      0.71       122\n",
      "           2       0.26      0.31      0.29        35\n",
      "\n",
      "    accuracy                           0.62       234\n",
      "   macro avg       0.56      0.53      0.54       234\n",
      "weighted avg       0.63      0.62      0.62       234\n",
      "\n"
     ]
    }
   ],
   "source": [
    "from sklearn.linear_model import LogisticRegression\n",
    "from sklearn.feature_extraction.text import TfidfVectorizer\n",
    "from sklearn.metrics import classification_report\n",
    "from vaderSentiment.vaderSentiment import SentimentIntensityAnalyzer\n",
    "import numpy as np\n",
    "\n",
    "# Logistic Regression with TF-IDF\n",
    "def train_logistic_regression(X_train, y_train, X_test, y_test):\n",
    "    tfidf_vectorizer = TfidfVectorizer(stop_words='english', max_features=5000)\n",
    "    X_train_tfidf = tfidf_vectorizer.fit_transform(X_train)\n",
    "    X_test_tfidf = tfidf_vectorizer.transform(X_test)\n",
    "    \n",
    "    # Train Logistic Regression\n",
    "    logreg_model = LogisticRegression(max_iter=1000)\n",
    "    logreg_model.fit(X_train_tfidf, y_train)\n",
    "    \n",
    "    # Evaluate the model\n",
    "    logreg_preds = logreg_model.predict(X_test_tfidf)\n",
    "    print(\"Logistic Regression Classification Report:\")\n",
    "    print(classification_report(y_test, logreg_preds))\n",
    "    \n",
    "    return logreg_model, tfidf_vectorizer\n",
    "\n",
    "# Vader Sentiment Analysis\n",
    "def evaluate_vader(X_test, y_test):\n",
    "    analyzer = SentimentIntensityAnalyzer()\n",
    "    \n",
    "    vader_preds = []\n",
    "    for text in X_test:\n",
    "        score = analyzer.polarity_scores(text)['compound']\n",
    "        if score > 0.05:\n",
    "            vader_preds.append(1)  # Positive\n",
    "        elif score < -0.05:\n",
    "            vader_preds.append(0)  # Negative\n",
    "        else:\n",
    "            vader_preds.append(2)  # Neutral\n",
    "    \n",
    "    print(\"Vader Sentiment Classification Report:\")\n",
    "    print(classification_report(y_test, vader_preds))\n",
    "\n",
    "# Huấn luyện Logistic Regression\n",
    "logreg_model, tfidf_vectorizer = train_logistic_regression(X_train, y_train, X_test, y_test)\n",
    "\n",
    "# Đánh giá với Vader Sentiment\n",
    "evaluate_vader(X_test, y_test)\n"
   ]
  },
  {
   "cell_type": "markdown",
   "id": "b39968ae",
   "metadata": {},
   "source": [
    "# Save the trained model with mlflow"
   ]
  },
  {
   "cell_type": "code",
   "execution_count": 13,
   "id": "2f3187aa",
   "metadata": {},
   "outputs": [
    {
     "name": "stderr",
     "output_type": "stream",
     "text": [
      "c:\\Users\\Admin\\miniconda3\\Lib\\site-packages\\mlflow\\pyfunc\\utils\\data_validation.py:186: UserWarning: \u001b[33mAdd type hints to the `predict` method to enable data validation and automatic signature inference during model logging. Check https://mlflow.org/docs/latest/model/python_model.html#type-hint-usage-in-pythonmodel for more details.\u001b[0m\n",
      "  color_warning(\n",
      "2025/04/21 13:04:13 INFO mlflow.pyfunc: Inferring model signature from input example\n",
      "c:\\Users\\Admin\\miniconda3\\Lib\\site-packages\\mlflow\\types\\utils.py:452: UserWarning: Hint: Inferred schema contains integer column(s). Integer columns in Python cannot represent missing values. If your input data contains missing values at inference time, it will be encoded as floats and will cause a schema enforcement error. The best way to avoid this problem is to infer the model schema based on a realistic data sample (training dataset) that includes missing values. Alternatively, you can declare integer columns as doubles (float64) whenever these columns may have missing values. See `Handling Integers With Missing Values <https://www.mlflow.org/docs/latest/models.html#handling-integers-with-missing-values>`_ for more details.\n",
      "  warnings.warn(\n",
      "Downloading artifacts: 100%|██████████| 7/7 [00:00<00:00, 32.92it/s]  \n"
     ]
    },
    {
     "name": "stdout",
     "output_type": "stream",
     "text": [
      "BERT model saved to MLflow.\n"
     ]
    },
    {
     "name": "stderr",
     "output_type": "stream",
     "text": [
      "2025/04/21 13:04:24 INFO mlflow.pyfunc: Inferring model signature from input example\n",
      "c:\\Users\\Admin\\miniconda3\\Lib\\site-packages\\mlflow\\types\\utils.py:452: UserWarning: Hint: Inferred schema contains integer column(s). Integer columns in Python cannot represent missing values. If your input data contains missing values at inference time, it will be encoded as floats and will cause a schema enforcement error. The best way to avoid this problem is to infer the model schema based on a realistic data sample (training dataset) that includes missing values. Alternatively, you can declare integer columns as doubles (float64) whenever these columns may have missing values. See `Handling Integers With Missing Values <https://www.mlflow.org/docs/latest/models.html#handling-integers-with-missing-values>`_ for more details.\n",
      "  warnings.warn(\n",
      "Downloading artifacts: 100%|██████████| 7/7 [00:00<00:00, 45.28it/s]  \n"
     ]
    },
    {
     "name": "stdout",
     "output_type": "stream",
     "text": [
      "RoBERTa model saved to MLflow.\n"
     ]
    },
    {
     "name": "stderr",
     "output_type": "stream",
     "text": [
      "2025/04/21 13:04:35 INFO mlflow.pyfunc: Inferring model signature from input example\n",
      "c:\\Users\\Admin\\miniconda3\\Lib\\site-packages\\mlflow\\types\\utils.py:452: UserWarning: Hint: Inferred schema contains integer column(s). Integer columns in Python cannot represent missing values. If your input data contains missing values at inference time, it will be encoded as floats and will cause a schema enforcement error. The best way to avoid this problem is to infer the model schema based on a realistic data sample (training dataset) that includes missing values. Alternatively, you can declare integer columns as doubles (float64) whenever these columns may have missing values. See `Handling Integers With Missing Values <https://www.mlflow.org/docs/latest/models.html#handling-integers-with-missing-values>`_ for more details.\n",
      "  warnings.warn(\n",
      "Downloading artifacts: 100%|██████████| 7/7 [00:00<00:00, 94.39it/s]  \n",
      "c:\\Users\\Admin\\miniconda3\\Lib\\site-packages\\mlflow\\pyfunc\\utils\\data_validation.py:186: UserWarning: \u001b[33mAdd type hints to the `predict` method to enable data validation and automatic signature inference during model logging. Check https://mlflow.org/docs/latest/model/python_model.html#type-hint-usage-in-pythonmodel for more details.\u001b[0m\n",
      "  color_warning(\n",
      "2025/04/21 13:04:44 INFO mlflow.pyfunc: Inferring model signature from input example\n"
     ]
    },
    {
     "name": "stdout",
     "output_type": "stream",
     "text": [
      "DistilBERT model saved to MLflow.\n"
     ]
    },
    {
     "name": "stderr",
     "output_type": "stream",
     "text": [
      "c:\\Users\\Admin\\miniconda3\\Lib\\site-packages\\mlflow\\types\\utils.py:452: UserWarning: Hint: Inferred schema contains integer column(s). Integer columns in Python cannot represent missing values. If your input data contains missing values at inference time, it will be encoded as floats and will cause a schema enforcement error. The best way to avoid this problem is to infer the model schema based on a realistic data sample (training dataset) that includes missing values. Alternatively, you can declare integer columns as doubles (float64) whenever these columns may have missing values. See `Handling Integers With Missing Values <https://www.mlflow.org/docs/latest/models.html#handling-integers-with-missing-values>`_ for more details.\n",
      "  warnings.warn(\n",
      "Downloading artifacts: 100%|██████████| 7/7 [00:00<00:00, 2380.81it/s]\n",
      "c:\\Users\\Admin\\miniconda3\\Lib\\site-packages\\mlflow\\pyfunc\\utils\\data_validation.py:186: UserWarning: \u001b[33mAdd type hints to the `predict` method to enable data validation and automatic signature inference during model logging. Check https://mlflow.org/docs/latest/model/python_model.html#type-hint-usage-in-pythonmodel for more details.\u001b[0m\n",
      "  color_warning(\n",
      "2025/04/21 13:04:48 INFO mlflow.pyfunc: Inferring model signature from input example\n"
     ]
    },
    {
     "name": "stdout",
     "output_type": "stream",
     "text": [
      "Logistic Regression pyfunc model saved to MLflow.\n"
     ]
    },
    {
     "name": "stderr",
     "output_type": "stream",
     "text": [
      "c:\\Users\\Admin\\miniconda3\\Lib\\site-packages\\mlflow\\types\\utils.py:452: UserWarning: Hint: Inferred schema contains integer column(s). Integer columns in Python cannot represent missing values. If your input data contains missing values at inference time, it will be encoded as floats and will cause a schema enforcement error. The best way to avoid this problem is to infer the model schema based on a realistic data sample (training dataset) that includes missing values. Alternatively, you can declare integer columns as doubles (float64) whenever these columns may have missing values. See `Handling Integers With Missing Values <https://www.mlflow.org/docs/latest/models.html#handling-integers-with-missing-values>`_ for more details.\n",
      "  warnings.warn(\n",
      "Downloading artifacts: 100%|██████████| 7/7 [00:00<00:00, 2022.05it/s]"
     ]
    },
    {
     "name": "stdout",
     "output_type": "stream",
     "text": [
      "Vader Sentiment model saved to MLflow.\n"
     ]
    },
    {
     "name": "stderr",
     "output_type": "stream",
     "text": [
      "\n"
     ]
    }
   ],
   "source": [
    "import mlflow\n",
    "import mlflow.pyfunc\n",
    "import torch\n",
    "from transformers import BertTokenizer, BertForSequenceClassification, RobertaTokenizer, RobertaForSequenceClassification, DistilBertTokenizer, DistilBertForSequenceClassification\n",
    "\n",
    "mlflow.set_experiment(\"sentiment-analysis\")\n",
    "\n",
    "# --- Custom Wrapper for HuggingFace Transformers ---\n",
    "class HFTransformersWrapper(mlflow.pyfunc.PythonModel):\n",
    "    def __init__(self, model_class, tokenizer_class, model_path):\n",
    "        self.model_class = model_class\n",
    "        self.tokenizer_class = tokenizer_class\n",
    "        self.model_path = model_path\n",
    "\n",
    "    def load_context(self, context):\n",
    "        self.model = self.model_class.from_pretrained(self.model_path)\n",
    "        self.tokenizer = self.tokenizer_class.from_pretrained(self.model_path)\n",
    "\n",
    "    def predict(self, context, model_input):\n",
    "        texts = model_input[\"text\"].tolist()\n",
    "        inputs = self.tokenizer(texts, padding=True, truncation=True, max_length=64, return_tensors=\"pt\")\n",
    "        with torch.no_grad():\n",
    "            outputs = self.model(**inputs)\n",
    "            preds = torch.argmax(outputs.logits, dim=1).numpy()\n",
    "        return preds\n",
    "\n",
    "# --- Save BERT model ---\n",
    "bert_model.save_pretrained(\"bert_saved\")\n",
    "bert_tokenizer.save_pretrained(\"bert_saved\")\n",
    "with mlflow.start_run(run_name=\"bert_sentiment\"):\n",
    "    mlflow.pyfunc.log_model(\n",
    "        \"bert_model\",\n",
    "        python_model=HFTransformersWrapper(BertForSequenceClassification, BertTokenizer, \"bert_saved\"),\n",
    "        input_example=pd.DataFrame({\"text\": X_test.tolist()[:2]})\n",
    "    )\n",
    "    mlflow.log_param(\"model_type\", \"BERT\")\n",
    "    acc = accuracy_score(true_labels, predictions)\n",
    "    report = classification_report(true_labels, predictions, output_dict=True)\n",
    "    mlflow.log_metric(\"accuracy\", acc)\n",
    "    mlflow.log_metric(\"precision\", report[\"weighted avg\"][\"precision\"])\n",
    "    mlflow.log_metric(\"recall\", report[\"weighted avg\"][\"recall\"])\n",
    "    mlflow.log_metric(\"f1_score\", report[\"weighted avg\"][\"f1-score\"])\n",
    "    print(\"BERT model saved to MLflow.\")\n",
    "\n",
    "# --- Save RoBERTa model ---\n",
    "roberta_model.save_pretrained(\"roberta_saved\")\n",
    "roberta_tokenizer.save_pretrained(\"roberta_saved\")\n",
    "with mlflow.start_run(run_name=\"roberta_sentiment\"):\n",
    "    mlflow.pyfunc.log_model(\n",
    "        \"roberta_model\",\n",
    "        python_model=HFTransformersWrapper(RobertaForSequenceClassification, RobertaTokenizer, \"roberta_saved\"),\n",
    "        input_example=pd.DataFrame({\"text\": X_test.tolist()[:2]})\n",
    "    )\n",
    "    mlflow.log_param(\"model_type\", \"RoBERTa\")\n",
    "    acc = accuracy_score(true_labels_roberta, predictions_roberta)\n",
    "    report = classification_report(true_labels_roberta, predictions_roberta, output_dict=True)\n",
    "    mlflow.log_metric(\"accuracy\", acc)\n",
    "    mlflow.log_metric(\"precision\", report[\"weighted avg\"][\"precision\"])\n",
    "    mlflow.log_metric(\"recall\", report[\"weighted avg\"][\"recall\"])\n",
    "    mlflow.log_metric(\"f1_score\", report[\"weighted avg\"][\"f1-score\"])\n",
    "    print(\"RoBERTa model saved to MLflow.\")\n",
    "\n",
    "# --- Save DistilBERT model ---\n",
    "distilbert_model.save_pretrained(\"distilbert_saved\")\n",
    "distilbert_tokenizer.save_pretrained(\"distilbert_saved\")\n",
    "with mlflow.start_run(run_name=\"distilbert_sentiment\"):\n",
    "    mlflow.pyfunc.log_model(\n",
    "        \"distilbert_model\",\n",
    "        python_model=HFTransformersWrapper(DistilBertForSequenceClassification, DistilBertTokenizer, \"distilbert_saved\"),\n",
    "        input_example=pd.DataFrame({\"text\": X_test.tolist()[:2]})\n",
    "    )\n",
    "    mlflow.log_param(\"model_type\", \"DistilBERT\")\n",
    "    acc = accuracy_score(true_labels_distilbert, predictions_distilbert)\n",
    "    report = classification_report(true_labels_distilbert, predictions_distilbert, output_dict=True)\n",
    "    mlflow.log_metric(\"accuracy\", acc)\n",
    "    mlflow.log_metric(\"precision\", report[\"weighted avg\"][\"precision\"])\n",
    "    mlflow.log_metric(\"recall\", report[\"weighted avg\"][\"recall\"])\n",
    "    mlflow.log_metric(\"f1_score\", report[\"weighted avg\"][\"f1-score\"])\n",
    "    print(\"DistilBERT model saved to MLflow.\")\n",
    "\n",
    "# Save Logistic Regression model with TF-IDF\n",
    "class SklearnTextWrapper(mlflow.pyfunc.PythonModel):\n",
    "    def __init__(self, model, vectorizer):\n",
    "        self.model = model\n",
    "        self.vectorizer = vectorizer\n",
    "\n",
    "    def predict(self, context, model_input):\n",
    "        X = self.vectorizer.transform(model_input[\"text\"])\n",
    "        return self.model.predict(X)\n",
    "\n",
    "# Evaluate the Logistic Regression model\n",
    "logreg_preds = logreg_model.predict(tfidf_vectorizer.transform(X_test))\n",
    "logreg_report = classification_report(y_test, logreg_preds, output_dict=True)\n",
    "logreg_acc = accuracy_score(y_test, logreg_preds)\n",
    "\n",
    "with mlflow.start_run(run_name=\"logreg_sentiment_pyfunc\"):\n",
    "    mlflow.pyfunc.log_model(\n",
    "        \"logreg_model\",\n",
    "        python_model=SklearnTextWrapper(logreg_model, tfidf_vectorizer),\n",
    "        input_example=pd.DataFrame({\"text\": X_test.tolist()[:2]})\n",
    "    )\n",
    "    mlflow.log_param(\"model_type\", \"LogisticRegression\")\n",
    "    mlflow.log_metric(\"accuracy\", logreg_acc)\n",
    "    mlflow.log_metric(\"precision\", logreg_report[\"weighted avg\"][\"precision\"])\n",
    "    mlflow.log_metric(\"recall\", logreg_report[\"weighted avg\"][\"recall\"])\n",
    "    mlflow.log_metric(\"f1_score\", logreg_report[\"weighted avg\"][\"f1-score\"])\n",
    "    print(\"Logistic Regression pyfunc model saved to MLflow.\")\n",
    "\n",
    "# --- Save Vader Sentiment as a custom pyfunc model \n",
    "class VaderSentimentWrapper(mlflow.pyfunc.PythonModel):\n",
    "    def __init__(self):\n",
    "        self.analyzer = SentimentIntensityAnalyzer()\n",
    "    def predict(self, context, model_input):\n",
    "        results = []\n",
    "        for text in model_input[\"text\"]:\n",
    "            score = self.analyzer.polarity_scores(text)[\"compound\"]\n",
    "            if score > 0.05:\n",
    "                results.append(1)\n",
    "            elif score < -0.05:\n",
    "                results.append(0)\n",
    "            else:\n",
    "                results.append(2)\n",
    "        return results\n",
    "\n",
    "vader_model = VaderSentimentWrapper()\n",
    "vader_preds = vader_model.predict(None, pd.DataFrame({\"text\": X_test.tolist()}))\n",
    "vader_report = classification_report(y_test, vader_preds, output_dict=True)\n",
    "with mlflow.start_run(run_name=\"vader_sentiment\"):\n",
    "    mlflow.pyfunc.log_model(\"vader_model\", python_model=vader_model, input_example=pd.DataFrame({\"text\": X_test.tolist()[:2]}))\n",
    "    mlflow.log_param(\"model_type\", \"VaderSentiment\")\n",
    "    mlflow.log_metric(\"accuracy\", accuracy_score(y_test, vader_preds))\n",
    "    mlflow.log_metric(\"precision\", vader_report[\"weighted avg\"][\"precision\"])\n",
    "    mlflow.log_metric(\"recall\", vader_report[\"weighted avg\"][\"recall\"])\n",
    "    mlflow.log_metric(\"f1_score\", vader_report[\"weighted avg\"][\"f1-score\"])\n",
    "    print(\"Vader Sentiment model saved to MLflow.\")"
   ]
  },
  {
   "cell_type": "code",
   "execution_count": 15,
   "id": "3b3b1e87",
   "metadata": {},
   "outputs": [
    {
     "name": "stdout",
     "output_type": "stream",
     "text": [
      "file:///d:/python/MLOps/project/mlruns\n"
     ]
    }
   ],
   "source": [
    "import mlflow\n",
    "print(mlflow.get_tracking_uri())"
   ]
  },
  {
   "cell_type": "markdown",
   "id": "0c856087",
   "metadata": {},
   "source": [
    "# Register"
   ]
  },
  {
   "cell_type": "code",
   "execution_count": 16,
   "id": "83fa6adb",
   "metadata": {},
   "outputs": [
    {
     "name": "stderr",
     "output_type": "stream",
     "text": [
      "Registered model 'SentimentBERT' already exists. Creating a new version of this model...\n",
      "Created version '3' of model 'SentimentBERT'.\n",
      "Registered model 'SentimentRoBERTa' already exists. Creating a new version of this model...\n",
      "Created version '3' of model 'SentimentRoBERTa'.\n",
      "Registered model 'SentimentDistilBERT' already exists. Creating a new version of this model...\n",
      "Created version '3' of model 'SentimentDistilBERT'.\n",
      "Registered model 'SentimentLogReg' already exists. Creating a new version of this model...\n",
      "Created version '3' of model 'SentimentLogReg'.\n",
      "Registered model 'SentimentVader' already exists. Creating a new version of this model...\n",
      "Created version '3' of model 'SentimentVader'.\n"
     ]
    },
    {
     "data": {
      "text/plain": [
       "<ModelVersion: aliases=[], creation_timestamp=1745215699812, current_stage='None', description=None, last_updated_timestamp=1745215699812, name='SentimentVader', run_id='bebfdc14154646c3b0312818e82ff464', run_link=None, source='file:///d:/python/MLOps/project/mlruns/759481644003022958/bebfdc14154646c3b0312818e82ff464/artifacts/vader_model', status='READY', status_message=None, tags={}, user_id=None, version=3>"
      ]
     },
     "execution_count": 16,
     "metadata": {},
     "output_type": "execute_result"
    }
   ],
   "source": [
    "mlflow.register_model(\"runs:/e578ccd39bcd45e8a31e8a4e0adc8afa/bert_model\", \"SentimentBERT\")\n",
    "mlflow.register_model(\"runs:/fc2e60ac916a40b79bbb3b0466de979e/roberta_model\", \"SentimentRoBERTa\")\n",
    "mlflow.register_model(\"runs:/c20fe5721d8b44c69d7eb1f8e827a69d/distilbert_model\", \"SentimentDistilBERT\")\n",
    "mlflow.register_model(\"runs:/e17c8020f9f0402eb8b8dc72cb33dbb8/logreg_model\", \"SentimentLogReg\")\n",
    "mlflow.register_model(\"runs:/bebfdc14154646c3b0312818e82ff464/vader_model\", \"SentimentVader\")"
   ]
  },
  {
   "cell_type": "code",
   "execution_count": 17,
   "id": "a33a3b21",
   "metadata": {},
   "outputs": [
    {
     "name": "stdout",
     "output_type": "stream",
     "text": [
      "Model SentimentRoBERTa version 1 set to Production.\n",
      "Alias 'champion' set for model SentimentRoBERTa version 1.\n",
      "Model SentimentBERT version 2 set to Staging.\n",
      "Alias 'challenger' set for model SentimentBERT version 2.\n",
      "Model SentimentRoBERTa: Champion version is 1.\n",
      "Model SentimentBERT: Challenger version is 2.\n"
     ]
    },
    {
     "name": "stderr",
     "output_type": "stream",
     "text": [
      "C:\\Users\\Admin\\AppData\\Local\\Temp\\ipykernel_6204\\2278271366.py:50: FutureWarning: ``mlflow.tracking.client.MlflowClient.transition_model_version_stage`` is deprecated since 2.9.0. Model registry stages will be removed in a future major release. To learn more about the deprecation of model registry stages, see our migration guide here: https://mlflow.org/docs/latest/model-registry.html#migrating-from-stages\n",
      "  client.transition_model_version_stage(\n",
      "C:\\Users\\Admin\\AppData\\Local\\Temp\\ipykernel_6204\\2278271366.py:65: FutureWarning: ``mlflow.tracking.client.MlflowClient.transition_model_version_stage`` is deprecated since 2.9.0. Model registry stages will be removed in a future major release. To learn more about the deprecation of model registry stages, see our migration guide here: https://mlflow.org/docs/latest/model-registry.html#migrating-from-stages\n",
      "  client.transition_model_version_stage(\n"
     ]
    }
   ],
   "source": [
    "from mlflow import MlflowClient \n",
    "client = MlflowClient()\n",
    "\n",
    "# Define the model names and their respective performance metrics\n",
    "model_performance = {\n",
    "    \"SentimentBERT\": {\n",
    "        \"accuracy\": accuracy_score(true_labels, predictions),\n",
    "        \"precision\": report[\"weighted avg\"][\"precision\"],\n",
    "        \"recall\": report[\"weighted avg\"][\"recall\"],\n",
    "        \"f1_score\": report[\"weighted avg\"][\"f1-score\"]\n",
    "    },\n",
    "    \"SentimentRoBERTa\": {\n",
    "        \"accuracy\": accuracy_score(true_labels_roberta, predictions_roberta),\n",
    "        \"precision\": classification_report(true_labels_roberta, predictions_roberta, output_dict=True)[\"weighted avg\"][\"precision\"],\n",
    "        \"recall\": classification_report(true_labels_roberta, predictions_roberta, output_dict=True)[\"weighted avg\"][\"recall\"],\n",
    "        \"f1_score\": classification_report(true_labels_roberta, predictions_roberta, output_dict=True)[\"weighted avg\"][\"f1-score\"]\n",
    "    },\n",
    "    \"SentimentDistilBERT\": {\n",
    "        \"accuracy\": accuracy_score(true_labels_distilbert, predictions_distilbert),\n",
    "        \"precision\": classification_report(true_labels_distilbert, predictions_distilbert, output_dict=True)[\"weighted avg\"][\"precision\"],\n",
    "        \"recall\": classification_report(true_labels_distilbert, predictions_distilbert, output_dict=True)[\"weighted avg\"][\"recall\"],\n",
    "        \"f1_score\": classification_report(true_labels_distilbert, predictions_distilbert, output_dict=True)[\"weighted avg\"][\"f1-score\"]\n",
    "    },\n",
    "    \"SentimentLogReg\": {\n",
    "        \"accuracy\": logreg_acc,\n",
    "        \"precision\": report[\"weighted avg\"][\"precision\"],\n",
    "        \"recall\": report[\"weighted avg\"][\"recall\"],\n",
    "        \"f1_score\": report[\"weighted avg\"][\"f1-score\"]\n",
    "    },\n",
    "    \"SentimentVader\": {\n",
    "        \"accuracy\": accuracy_score(y_test, vader_preds),\n",
    "        \"precision\": vader_report[\"weighted avg\"][\"precision\"],\n",
    "        \"recall\": vader_report[\"weighted avg\"][\"recall\"],\n",
    "        \"f1_score\": vader_report[\"weighted avg\"][\"f1-score\"]\n",
    "    }\n",
    "}\n",
    "\n",
    "# Sort models by a primary metric (F1-score) in descending order\n",
    "sorted_models = sorted(model_performance.items(), key=lambda x: x[1][\"f1_score\"], reverse=True)\n",
    "\n",
    "# Assign champion and challenger based on the primary metric\n",
    "models = {\n",
    "    sorted_models[0][0]: {\"production\": 1, \"alias_champion\": \"champion\"},\n",
    "    sorted_models[1][0]: {\"staging\": 2, \"alias_challenger\": \"challenger\"}\n",
    "}\n",
    "\n",
    "# Update stages and set aliases for champion and challenger\n",
    "for model_name, details in models.items():\n",
    "    if \"production\" in details:\n",
    "        client.transition_model_version_stage(\n",
    "            name=model_name,\n",
    "            version=details[\"production\"],\n",
    "            stage=\"Production\"\n",
    "        )\n",
    "        print(f\"Model {model_name} version {details['production']} set to Production.\")\n",
    "\n",
    "        client.set_registered_model_alias(\n",
    "            name=model_name,\n",
    "            alias=details[\"alias_champion\"],\n",
    "            version=details[\"production\"]\n",
    "        )\n",
    "        print(f\"Alias '{details['alias_champion']}' set for model {model_name} version {details['production']}.\")\n",
    "\n",
    "    if \"staging\" in details:\n",
    "        client.transition_model_version_stage(\n",
    "            name=model_name,\n",
    "            version=details[\"staging\"],\n",
    "            stage=\"Staging\"\n",
    "        )\n",
    "        print(f\"Model {model_name} version {details['staging']} set to Staging.\")\n",
    "\n",
    "        client.set_registered_model_alias(\n",
    "            name=model_name,\n",
    "            alias=details[\"alias_challenger\"],\n",
    "            version=details[\"staging\"]\n",
    "        )\n",
    "        print(f\"Alias '{details['alias_challenger']}' set for model {model_name} version {details['staging']}.\")\n",
    "\n",
    "# Retrieve and print the champion and challenger models\n",
    "for model_name in models.keys():\n",
    "    if \"alias_champion\" in models[model_name]:\n",
    "        champion_version = client.get_model_version_by_alias(name=model_name, alias=\"champion\").version\n",
    "        print(f\"Model {model_name}: Champion version is {champion_version}.\")\n",
    "    if \"alias_challenger\" in models[model_name]:\n",
    "        challenger_version = client.get_model_version_by_alias(name=model_name, alias=\"challenger\").version\n",
    "        print(f\"Model {model_name}: Challenger version is {challenger_version}.\")"
   ]
  },
  {
   "cell_type": "code",
   "execution_count": 18,
   "id": "2fdf1b0a",
   "metadata": {},
   "outputs": [
    {
     "name": "stdout",
     "output_type": "stream",
     "text": [
      "Champion Run ID: fc2e60ac916a40b79bbb3b0466de979e\n",
      "Challenger Run ID: e578ccd39bcd45e8a31e8a4e0adc8afa\n"
     ]
    }
   ],
   "source": [
    "# Retrieve run_id of champion\n",
    "champion_model_version = client.get_model_version_by_alias(name=\"SentimentRoBERTa\", alias=\"champion\")\n",
    "champion_run_id = champion_model_version.run_id\n",
    "print(f\"Champion Run ID: {champion_run_id}\")\n",
    "\n",
    "# Retrieve run_id of challenger\n",
    "challenger_model_version = client.get_model_version_by_alias(name=\"SentimentBERT\", alias=\"challenger\")\n",
    "challenger_run_id = challenger_model_version.run_id\n",
    "print(f\"Challenger Run ID: {challenger_run_id}\")"
   ]
  },
  {
   "cell_type": "markdown",
   "id": "401b8ca1",
   "metadata": {},
   "source": [
    "# Load model"
   ]
  },
  {
   "cell_type": "code",
   "execution_count": 30,
   "id": "03e67096",
   "metadata": {},
   "outputs": [
    {
     "name": "stdout",
     "output_type": "stream",
     "text": [
      "Champion prediction: [0]\n",
      "Challenger prediction: [0]\n"
     ]
    }
   ],
   "source": [
    "import mlflow.pyfunc\n",
    "\n",
    "# Load champion model (example: SentimentRoBERTa)\n",
    "champion_model = mlflow.pyfunc.load_model(model_uri=\"models:/SentimentRoBERTa@champion\")\n",
    "\n",
    "# Load challenger model (example: SentimentBERT)\n",
    "challenger_model = mlflow.pyfunc.load_model(model_uri=\"models:/SentimentBERT@challenger\")\n",
    "\n",
    "# Example prediction\n",
    "import pandas as pd\n",
    "df = pd.DataFrame({\"text\": [\"donal trump is stupid\"]})\n",
    "\n",
    "print(\"Champion prediction:\", champion_model.predict(df))\n",
    "print(\"Challenger prediction:\", challenger_model.predict(df))"
   ]
  },
  {
   "cell_type": "markdown",
   "id": "5bfa7cb0",
   "metadata": {},
   "source": [
    "# Serve the model via MLflow's endpoint (run this in terminal, not notebook)\n",
    "- mlflow models serve -m \"models:/SentimentRoBERTa@champion\" -p 5001 --no-conda\n"
   ]
  },
  {
   "cell_type": "code",
   "execution_count": 29,
   "id": "865a0cdc",
   "metadata": {},
   "outputs": [
    {
     "name": "stdout",
     "output_type": "stream",
     "text": [
      "{'predictions': [2]}\n"
     ]
    }
   ],
   "source": [
    "import requests\n",
    "import json\n",
    "\n",
    "url = \"http://127.0.0.1:5001/invocations\"  \n",
    "data = {\n",
    "  \"inputs\": [\n",
    "    {\"text\": \"donal trump is a bit wierd, but still okay\"},\n",
    "  ]\n",
    "}\n",
    "response = requests.post(url, data=json.dumps(data), headers={\"Content-Type\": \"application/json\"})\n",
    "print(response.json())"
   ]
  },
  {
   "cell_type": "code",
   "execution_count": null,
   "id": "bef87290",
   "metadata": {},
   "outputs": [],
   "source": []
  },
  {
   "cell_type": "code",
   "execution_count": null,
   "id": "b05b2c7b",
   "metadata": {},
   "outputs": [],
   "source": []
  }
 ],
 "metadata": {
  "kernelspec": {
   "display_name": "base",
   "language": "python",
   "name": "python3"
  },
  "language_info": {
   "codemirror_mode": {
    "name": "ipython",
    "version": 3
   },
   "file_extension": ".py",
   "mimetype": "text/x-python",
   "name": "python",
   "nbconvert_exporter": "python",
   "pygments_lexer": "ipython3",
   "version": "3.12.9"
  }
 },
 "nbformat": 4,
 "nbformat_minor": 5
}
